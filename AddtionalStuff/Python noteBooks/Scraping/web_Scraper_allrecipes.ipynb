{
 "cells": [
  {
   "cell_type": "code",
   "execution_count": 2,
   "id": "356bb75c",
   "metadata": {},
   "outputs": [],
   "source": [
    "import selenium \n",
    "from selenium import webdriver as wb\n",
    "import pandas as pd \n",
    "from selenium.webdriver.common.by import By\n",
    "#this help us to see the prograes of the loop \n",
    "from tqdm import tqdm\n"
   ]
  },
  {
   "cell_type": "markdown",
   "id": "f72b3c1a",
   "metadata": {},
   "source": [
    "- go for each char and get the links for each ingredient\n",
    "- for the list scrap the links for the recipes \n",
    "- for each recipe scrap the info "
   ]
  },
  {
   "cell_type": "code",
   "execution_count": 2,
   "id": "3207669a",
   "metadata": {},
   "outputs": [],
   "source": [
    "webiste_recipeces_names_list_link = 'https://www.allrecipes.com/ingredients-a-z-6740416#alphabetical-list-t'"
   ]
  },
  {
   "cell_type": "code",
   "execution_count": 3,
   "id": "bf2007dd",
   "metadata": {},
   "outputs": [
    {
     "name": "stderr",
     "output_type": "stream",
     "text": [
      "C:\\Users\\Khale\\AppData\\Local\\Temp\\ipykernel_21096\\4038645064.py:4: DeprecationWarning: executable_path has been deprecated, please pass in a Service object\n",
      "  driver = wb.Chrome(options=options, executable_path=chromedriver_path)\n"
     ]
    }
   ],
   "source": [
    "options = wb.ChromeOptions()\n",
    "options.add_experimental_option(\"detach\", True)\n",
    "chromedriver_path = './Learn/chromedriver'\n",
    "driver = wb.Chrome(options=options, executable_path=chromedriver_path)"
   ]
  },
  {
   "cell_type": "code",
   "execution_count": 26,
   "id": "312662ba",
   "metadata": {},
   "outputs": [
    {
     "name": "stderr",
     "output_type": "stream",
     "text": [
      "C:\\Users\\Khale\\AppData\\Local\\Temp\\ipykernel_11272\\3936176394.py:4: DeprecationWarning: executable_path has been deprecated, please pass in a Service object\n",
      "  driver = wb.Chrome(options=options, executable_path=chromedriver_path)\n"
     ]
    }
   ],
   "source": [
    "driver.get(webiste_recipeces_names_list_link)\n",
    "\n",
    "EL_link_recipecs_names = driver.find_elements(By.XPATH,'//li[contains(@id,\"link-list__item_\")]/a')\n",
    "ingredients_links = []\n",
    "for elm in EL_link_recipecs_names:\n",
    "    ingredients_links.append((elm.text,elm.get_attribute('href')))\n"
   ]
  },
  {
   "cell_type": "code",
   "execution_count": 27,
   "id": "1f178504",
   "metadata": {},
   "outputs": [
    {
     "name": "stderr",
     "output_type": "stream",
     "text": [
      "100%|██████████████████████████████████████████████████████████████████████████████████| 69/69 [03:01<00:00,  2.62s/it]\n"
     ]
    }
   ],
   "source": [
    "recipecs_links=[]\n",
    "for recipe_elm in tqdm(ingredients_links):\n",
    "    driver.get(recipe_elm[1])\n",
    "    recipes_elms=driver.find_elements(By.XPATH,'//a[contains(@id,\"mntl-card-list-items_\")]')\n",
    "    for recipe in recipes_elms:\n",
    "        recipecs_links[recipe_elm[0]].append({recipe_elm[0]:{\n",
    "            'recip_title':recipe.find_element(By.XPATH,'.//span[contains(@class,\"card__title-text\")] ').text,\n",
    "            'recipe_link':recipe.get_attribute('href')\n",
    "        }})\n",
    "\n",
    "     "
   ]
  },
  {
   "cell_type": "code",
   "execution_count": 55,
   "id": "0fca4c70",
   "metadata": {},
   "outputs": [
    {
     "ename": "NameError",
     "evalue": "name 'recipecs_links' is not defined",
     "output_type": "error",
     "traceback": [
      "\u001b[1;31m---------------------------------------------------------------------------\u001b[0m",
      "\u001b[1;31mNameError\u001b[0m                                 Traceback (most recent call last)",
      "Input \u001b[1;32mIn [55]\u001b[0m, in \u001b[0;36m<cell line: 2>\u001b[1;34m()\u001b[0m\n\u001b[0;32m      1\u001b[0m driver\u001b[38;5;241m.\u001b[39mquit()    \n\u001b[1;32m----> 2\u001b[0m \u001b[38;5;28mprint\u001b[39m(\u001b[43mrecipecs_links\u001b[49m)\n",
      "\u001b[1;31mNameError\u001b[0m: name 'recipecs_links' is not defined"
     ]
    }
   ],
   "source": [
    "driver.quit()    \n",
    "print(recipecs_links)"
   ]
  },
  {
   "cell_type": "code",
   "execution_count": 4,
   "id": "7df9c3fe",
   "metadata": {},
   "outputs": [],
   "source": [
    "super_cock = 'https://www.supercook.com/#/desktop'\n",
    "driver.get(super_cock)\n",
    "# <a class=\"btn btn-black w-button\">Get started</a>\n",
    "try:\n",
    "    btn_start = driver.find_element(By.XPATH, '//a[text() = \"Get started\"]')\n",
    "    btn_start.click()\n",
    "except: \n",
    "    print(\"Started already \")\n"
   ]
  },
  {
   "cell_type": "code",
   "execution_count": 5,
   "id": "3101fb6c",
   "metadata": {},
   "outputs": [
    {
     "name": "stdout",
     "output_type": "stream",
     "text": [
      "+30 More\n",
      "+90 More\n",
      "+26 More\n",
      "+90 More\n",
      "+30 More\n",
      "+37 More\n",
      "+90 More\n",
      "+78 More\n",
      "+90 More\n",
      "+90 More\n",
      "+78 More\n",
      "+90 More\n",
      "+42 More\n",
      "+90 More\n",
      "+90 More\n",
      "+90 More\n",
      "+90 More\n",
      "+35 More\n",
      "+88 More\n",
      "+57 More\n",
      "+82 More\n",
      "+90 More\n",
      "+64 More\n",
      "+60 More\n",
      "+90 More\n",
      "+90 More\n",
      "+90 More\n",
      "+83 More\n",
      "+90 More\n",
      "+90 More\n",
      "+90 More\n",
      "+90 More\n"
     ]
    }
   ],
   "source": [
    "    btns_more = driver.find_elements(By.XPATH, '//a[contains(@class,\"tags-mini-item more-tag\")]')\n",
    "    for btn in btns_more:\n",
    "        print(btn.text)\n",
    "        try:\n",
    "            btn.click()\n",
    "        except:\n",
    "            pass\n"
   ]
  }
 ],
 "metadata": {
  "kernelspec": {
   "display_name": "Python 3 (ipykernel)",
   "language": "python",
   "name": "python3"
  },
  "language_info": {
   "codemirror_mode": {
    "name": "ipython",
    "version": 3
   },
   "file_extension": ".py",
   "mimetype": "text/x-python",
   "name": "python",
   "nbconvert_exporter": "python",
   "pygments_lexer": "ipython3",
   "version": "3.10.2"
  }
 },
 "nbformat": 4,
 "nbformat_minor": 5
}
